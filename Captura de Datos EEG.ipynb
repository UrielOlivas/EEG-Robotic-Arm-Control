{
 "cells": [
  {
   "cell_type": "code",
   "execution_count": 1,
   "id": "a9edd867-3e32-4d76-ad2b-5eb083f71ab4",
   "metadata": {},
   "outputs": [
    {
     "name": "stdout",
     "output_type": "stream",
     "text": [
      "Requirement already satisfied: hidapi in c:\\users\\52614\\anaconda3\\lib\\site-packages (0.14.0.post2)\n",
      "Requirement already satisfied: setuptools>=19.0 in c:\\users\\52614\\anaconda3\\lib\\site-packages (from hidapi) (69.5.1)\n"
     ]
    }
   ],
   "source": [
    "! pip install hidapi"
   ]
  },
  {
   "cell_type": "code",
   "execution_count": null,
   "id": "aed26a79-dc9c-4338-bfad-4ea61434cf7f",
   "metadata": {},
   "outputs": [],
   "source": [
    "! pip install hid"
   ]
  },
  {
   "cell_type": "code",
   "execution_count": 1,
   "id": "5b43f08a-75f1-4406-ad7b-c130b3eedf9d",
   "metadata": {},
   "outputs": [],
   "source": [
    "import hid\n",
    "import time\n",
    "import numpy"
   ]
  },
  {
   "cell_type": "code",
   "execution_count": 13,
   "id": "7e43a31f-3118-44ff-b1c3-58639bc8fad6",
   "metadata": {},
   "outputs": [],
   "source": [
    "# Obtenido desde Administrador de Dispositivos/Dispositivo compatible con hid/propiedades/detalles/Identificadores de hardware\n",
    "VENDOR_ID = 0x1234  \n",
    "PRODUCT_ID = 0xED02  "
   ]
  },
  {
   "cell_type": "code",
   "execution_count": 14,
   "id": "9e4168f8-78a0-4d74-b1dd-f7bd07cf8ed0",
   "metadata": {},
   "outputs": [
    {
     "name": "stdout",
     "output_type": "stream",
     "text": [
      "Device manufacturer: Emotiv\n",
      "Product: Brain Computer Interface USB Receiver/Dongle\n",
      "Serial Number: UD2015120200105F\n"
     ]
    }
   ],
   "source": [
    "with hid.Device(VENDOR_ID, PRODUCT_ID) as h:\n",
    "\tprint(f'Device manufacturer: {h.manufacturer}')\n",
    "\tprint(f'Product: {h.product}')\n",
    "\tprint(f'Serial Number: {h.serial}')"
   ]
  },
  {
   "cell_type": "code",
   "execution_count": 22,
   "id": "daca93b2-8e67-4762-8575-e8592ec4192c",
   "metadata": {},
   "outputs": [
    {
     "name": "stdout",
     "output_type": "stream",
     "text": [
      "Iteración:  1 \n",
      "Chunk:  <class 'bytes'> b''\n",
      "No data read.\n",
      "Iteración:  2 \n",
      "Chunk:  <class 'bytes'> b''\n",
      "No data read.\n",
      "Iteración:  3 \n",
      "Chunk:  <class 'bytes'> b''\n",
      "No data read.\n",
      "Iteración:  4 \n",
      "Chunk:  <class 'bytes'> b''\n",
      "No data read.\n",
      "Iteración:  5 \n",
      "Chunk:  <class 'bytes'> b''\n",
      "No data read.\n",
      "Iteración:  6 \n",
      "Chunk:  <class 'bytes'> b''\n",
      "No data read.\n",
      "Iteración:  7 \n",
      "Chunk:  <class 'bytes'> b''\n",
      "No data read.\n",
      "Iteración:  8 \n",
      "Chunk:  <class 'bytes'> b''\n",
      "No data read.\n",
      "Iteración:  9 \n",
      "Chunk:  <class 'bytes'> b''\n",
      "No data read.\n",
      "Iteración:  10 \n",
      "Chunk:  <class 'bytes'> b''\n",
      "No data read.\n"
     ]
    }
   ],
   "source": [
    "try:\n",
    "    device = hid.Device(VENDOR_ID, PRODUCT_ID)\n",
    "    iterations = 10\n",
    "\n",
    "    for i in range(iterations):\n",
    "        chunk = device.read(128, timeout=1000)\n",
    "        print(\"Iteración: \", i+1, \"\\nChunk: \",type(chunk), chunk)\n",
    "\n",
    "        if chunk:\n",
    "            numpy.savetxt('data.csv', delimiter=\",\")\n",
    "        else:\n",
    "            print(\"No data read.\")\n",
    "        time.sleep(0.1)  \n",
    "\n",
    "except Exception as e:\n",
    "    print(f\"Error: {e}\")\n",
    "finally:\n",
    "    device.close()"
   ]
  },
  {
   "cell_type": "code",
   "execution_count": null,
   "id": "f8a3e5ae-3d89-42d6-993a-09f08d3e3992",
   "metadata": {},
   "outputs": [],
   "source": []
  }
 ],
 "metadata": {
  "kernelspec": {
   "display_name": "Python 3 (ipykernel)",
   "language": "python",
   "name": "python3"
  },
  "language_info": {
   "codemirror_mode": {
    "name": "ipython",
    "version": 3
   },
   "file_extension": ".py",
   "mimetype": "text/x-python",
   "name": "python",
   "nbconvert_exporter": "python",
   "pygments_lexer": "ipython3",
   "version": "3.12.4"
  }
 },
 "nbformat": 4,
 "nbformat_minor": 5
}
